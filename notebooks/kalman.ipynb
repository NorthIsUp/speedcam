{
 "cells": [
  {
   "cell_type": "code",
   "execution_count": 0,
   "metadata": {},
   "outputs": [],
   "source": [
    "cd ~/work/waroncars"
   ]
  },
  {
   "cell_type": "code",
   "execution_count": 0,
   "metadata": {},
   "outputs": [],
   "source": [
    "plt = plotter()\n",
    "%config InlineBackend.figure_format = 'retina'\n",
    "%matplotlib inline"
   ]
  },
  {
   "cell_type": "code",
   "execution_count": 0,
   "metadata": {},
   "outputs": [],
   "source": [
    "import kalman"
   ]
  },
  {
   "cell_type": "code",
   "execution_count": 0,
   "metadata": {},
   "outputs": [],
   "source": [
    "# kalman setup\n",
    "std0 = np.array([5, 5, 1, 1])\n",
    "k = kalman.KalmanTracker(4, std0)"
   ]
  },
  {
   "cell_type": "code",
   "execution_count": 0,
   "metadata": {},
   "outputs": [],
   "source": [
    "# path params\n",
    "N = 100\n",
    "zϵ = np.array([5, 5, 1, 1])\n",
    "z0 = np.array([100, 200, 100, 50])\n",
    "z1 = np.array([600, 400, 110, 40])"
   ]
  },
  {
   "cell_type": "code",
   "execution_count": 0,
   "metadata": {},
   "outputs": [],
   "source": [
    "# generate path\n",
    "t_path = np.linspace(0, 1, N)\n",
    "z_path = (1-t_path[:, None])*z0[None, :] + t_path[:, None]*z1[None, :]\n",
    "z_obs = z_path + zϵ[None, :]*np.random.randn(N, 4)\n",
    "plt.plot(t_path, z_obs);"
   ]
  },
  {
   "cell_type": "code",
   "execution_count": 0,
   "metadata": {},
   "outputs": [],
   "source": [
    "def gen_kalman(kal, path):\n",
    "    for i, obs in enumerate(path):\n",
    "        kal.update(obs, restart=(i==0))\n",
    "        yield kal.predict()"
   ]
  },
  {
   "cell_type": "code",
   "execution_count": 0,
   "metadata": {},
   "outputs": [],
   "source": [
    "z_pred = np.vstack([x[:4] for x, P in gen_kalman(k, z_obs)])\n",
    "plt.plot(t_path, z_pred-z_obs);"
   ]
  },
  {
   "cell_type": "code",
   "execution_count": 0,
   "metadata": {},
   "outputs": [],
   "source": [
    "idx = 2\n",
    "plt.plot(t_path, z_pred[:, idx], t_path, z_obs[:, idx]);"
   ]
  },
  {
   "cell_type": "code",
   "execution_count": 0,
   "metadata": {},
   "outputs": [],
   "source": []
  }
 ],
 "metadata": {
  "kernelspec": {
   "display_name": "Python 3.9",
   "language": "python",
   "name": "python3.9"
  },
  "language_info": {
   "codemirror_mode": {
    "name": "ipython",
    "version": 3
   },
   "file_extension": ".py",
   "mimetype": "text/x-python",
   "name": "python",
   "nbconvert_exporter": "python",
   "pygments_lexer": "ipython3",
   "version": "3.9.7"
  }
 },
 "nbformat": 4,
 "nbformat_minor": 4
}